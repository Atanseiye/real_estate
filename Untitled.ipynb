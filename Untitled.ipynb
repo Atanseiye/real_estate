{
 "cells": [
  {
   "cell_type": "code",
   "execution_count": 188,
   "id": "d2f61779-6e98-4f3d-9e1d-24144f6ac142",
   "metadata": {},
   "outputs": [],
   "source": [
    "import pandas as pd\n",
    "import numpy as np\n",
    "\n",
    "import matplotlib.pyplot as plt\n",
    "import seaborn as sns"
   ]
  },
  {
   "cell_type": "code",
   "execution_count": 204,
   "id": "d3007c48-8a63-4a76-86b8-195b0948048a",
   "metadata": {},
   "outputs": [],
   "source": [
    "data = pd.read_csv('data.csv')"
   ]
  },
  {
   "cell_type": "code",
   "execution_count": 205,
   "id": "8ae6a706-459c-4066-ab39-6baea08bcf84",
   "metadata": {},
   "outputs": [
    {
     "data": {
      "text/html": [
       "<div>\n",
       "<style scoped>\n",
       "    .dataframe tbody tr th:only-of-type {\n",
       "        vertical-align: middle;\n",
       "    }\n",
       "\n",
       "    .dataframe tbody tr th {\n",
       "        vertical-align: top;\n",
       "    }\n",
       "\n",
       "    .dataframe thead th {\n",
       "        text-align: right;\n",
       "    }\n",
       "</style>\n",
       "<table border=\"1\" class=\"dataframe\">\n",
       "  <thead>\n",
       "    <tr style=\"text-align: right;\">\n",
       "      <th></th>\n",
       "      <th>building_size</th>\n",
       "      <th>type</th>\n",
       "      <th>Value</th>\n",
       "      <th>bedroom</th>\n",
       "      <th>age</th>\n",
       "      <th>bathrooms</th>\n",
       "      <th>toilets</th>\n",
       "      <th>Boy'squarter</th>\n",
       "      <th>loc_density</th>\n",
       "      <th>condition</th>\n",
       "      <th>Ceiling</th>\n",
       "      <th>Floor</th>\n",
       "      <th>Roof</th>\n",
       "      <th>Window</th>\n",
       "      <th>Painting</th>\n",
       "      <th>water</th>\n",
       "      <th>Electricity</th>\n",
       "      <th>Car_park</th>\n",
       "      <th>Security</th>\n",
       "    </tr>\n",
       "  </thead>\n",
       "  <tbody>\n",
       "    <tr>\n",
       "      <th>0</th>\n",
       "      <td>64</td>\n",
       "      <td>Mini Flat</td>\n",
       "      <td>86</td>\n",
       "      <td>88.0</td>\n",
       "      <td>65.0</td>\n",
       "      <td>34</td>\n",
       "      <td>78</td>\n",
       "      <td>Present</td>\n",
       "      <td>High density</td>\n",
       "      <td>Very good</td>\n",
       "      <td>Asbestos</td>\n",
       "      <td>Tiles</td>\n",
       "      <td>Corrugated Iron Sheet</td>\n",
       "      <td>Glazed Aluminium Sliding Window</td>\n",
       "      <td>Textcote Paint</td>\n",
       "      <td>Good</td>\n",
       "      <td>Very good</td>\n",
       "      <td>Present</td>\n",
       "      <td>Gated estate</td>\n",
       "    </tr>\n",
       "    <tr>\n",
       "      <th>1</th>\n",
       "      <td>200</td>\n",
       "      <td>Bungalow</td>\n",
       "      <td>60000000</td>\n",
       "      <td>2.0</td>\n",
       "      <td>3.0</td>\n",
       "      <td>2</td>\n",
       "      <td>3</td>\n",
       "      <td>Absent</td>\n",
       "      <td>Medium density</td>\n",
       "      <td>Very good</td>\n",
       "      <td>Others</td>\n",
       "      <td>Tiles</td>\n",
       "      <td>Long Span Aluminium Roofing sheet</td>\n",
       "      <td>Glazed Aluminium Sliding Window</td>\n",
       "      <td>Textcote Paint</td>\n",
       "      <td>Good</td>\n",
       "      <td>Good</td>\n",
       "      <td>Not present</td>\n",
       "      <td>Private gate/fence</td>\n",
       "    </tr>\n",
       "    <tr>\n",
       "      <th>2</th>\n",
       "      <td>200</td>\n",
       "      <td>Terrace</td>\n",
       "      <td>100000000</td>\n",
       "      <td>4.0</td>\n",
       "      <td>1.0</td>\n",
       "      <td>4</td>\n",
       "      <td>5</td>\n",
       "      <td>Absent</td>\n",
       "      <td>High density</td>\n",
       "      <td>Very good</td>\n",
       "      <td>POP</td>\n",
       "      <td>Tiles</td>\n",
       "      <td>Long Span Aluminium Roofing sheet</td>\n",
       "      <td>Casement</td>\n",
       "      <td>Emulsion Paint</td>\n",
       "      <td>Good</td>\n",
       "      <td>Good</td>\n",
       "      <td>Not present</td>\n",
       "      <td>Gated estate</td>\n",
       "    </tr>\n",
       "    <tr>\n",
       "      <th>3</th>\n",
       "      <td>500</td>\n",
       "      <td>Detached house</td>\n",
       "      <td>150000000</td>\n",
       "      <td>5.0</td>\n",
       "      <td>9.0</td>\n",
       "      <td>5</td>\n",
       "      <td>5</td>\n",
       "      <td>Absent</td>\n",
       "      <td>Medium density</td>\n",
       "      <td>Good</td>\n",
       "      <td>POP</td>\n",
       "      <td>Others</td>\n",
       "      <td>Long Span Aluminium Roofing sheet</td>\n",
       "      <td>Glazed Aluminium Sliding Window</td>\n",
       "      <td>Gloss Paint</td>\n",
       "      <td>Good</td>\n",
       "      <td>Good</td>\n",
       "      <td>Present</td>\n",
       "      <td>Gated estate</td>\n",
       "    </tr>\n",
       "    <tr>\n",
       "      <th>4</th>\n",
       "      <td>100</td>\n",
       "      <td>Mini Flat</td>\n",
       "      <td>50000000</td>\n",
       "      <td>1.0</td>\n",
       "      <td>5.0</td>\n",
       "      <td>1</td>\n",
       "      <td>2</td>\n",
       "      <td>Absent</td>\n",
       "      <td>High density</td>\n",
       "      <td>Good</td>\n",
       "      <td>Others</td>\n",
       "      <td>Tiles</td>\n",
       "      <td>Aluminium Step Tiles Roofing Sheet</td>\n",
       "      <td>Glazed Aluminium Sliding Window</td>\n",
       "      <td>Gloss Paint</td>\n",
       "      <td>Good</td>\n",
       "      <td>Very good</td>\n",
       "      <td>Not present</td>\n",
       "      <td>Private gate/fence</td>\n",
       "    </tr>\n",
       "  </tbody>\n",
       "</table>\n",
       "</div>"
      ],
      "text/plain": [
       "   building_size            type      Value  bedroom   age  bathrooms  \\\n",
       "0             64       Mini Flat         86     88.0  65.0         34   \n",
       "1            200        Bungalow   60000000      2.0   3.0          2   \n",
       "2            200         Terrace  100000000      4.0   1.0          4   \n",
       "3            500  Detached house  150000000      5.0   9.0          5   \n",
       "4            100       Mini Flat   50000000      1.0   5.0          1   \n",
       "\n",
       "   toilets Boy'squarter     loc_density  condition  Ceiling    Floor  \\\n",
       "0       78      Present    High density  Very good  Asbestos   Tiles   \n",
       "1        3       Absent  Medium density  Very good    Others   Tiles   \n",
       "2        5       Absent    High density  Very good       POP   Tiles   \n",
       "3        5       Absent  Medium density       Good       POP  Others   \n",
       "4        2       Absent    High density       Good    Others   Tiles   \n",
       "\n",
       "                                 Roof                          Window   \\\n",
       "0               Corrugated Iron Sheet  Glazed Aluminium Sliding Window   \n",
       "1   Long Span Aluminium Roofing sheet  Glazed Aluminium Sliding Window   \n",
       "2   Long Span Aluminium Roofing sheet                         Casement   \n",
       "3   Long Span Aluminium Roofing sheet  Glazed Aluminium Sliding Window   \n",
       "4  Aluminium Step Tiles Roofing Sheet  Glazed Aluminium Sliding Window   \n",
       "\n",
       "         Painting water Electricity     Car_park            Security  \n",
       "0  Textcote Paint  Good   Very good      Present        Gated estate  \n",
       "1  Textcote Paint  Good        Good  Not present  Private gate/fence  \n",
       "2  Emulsion Paint  Good        Good  Not present        Gated estate  \n",
       "3     Gloss Paint  Good        Good      Present        Gated estate  \n",
       "4     Gloss Paint  Good   Very good  Not present  Private gate/fence  "
      ]
     },
     "execution_count": 205,
     "metadata": {},
     "output_type": "execute_result"
    }
   ],
   "source": [
    "data.head()"
   ]
  },
  {
   "cell_type": "code",
   "execution_count": 192,
   "id": "8750e108-7c20-4b7e-8323-6e1d78381834",
   "metadata": {},
   "outputs": [
    {
     "data": {
      "text/plain": [
       "2000"
      ]
     },
     "execution_count": 200,
     "metadata": {},
     "output_type": "execute_result"
    }
   ],
   "source": [
    "data['building_size'].max()"
   ]
  },
  {
   "cell_type": "code",
   "execution_count": null,
   "id": "e3de9d49-eb9b-45ec-887c-7d914e9b90c0",
   "metadata": {},
   "outputs": [],
   "source": []
  },
  {
   "cell_type": "code",
   "execution_count": 206,
   "id": "6d3e5d2a-b3de-4b8f-81a7-4dc41c13f54e",
   "metadata": {},
   "outputs": [],
   "source": [
    "data['type'].value_counts()\n",
    "data = data[data['age'] < 23]\n",
    "data.dropna(inplace=True)"
   ]
  },
  {
   "cell_type": "code",
   "execution_count": 207,
   "id": "e37e89c9-ef53-457a-a906-e53961f6b780",
   "metadata": {},
   "outputs": [
    {
     "data": {
      "text/html": [
       "<div>\n",
       "<style scoped>\n",
       "    .dataframe tbody tr th:only-of-type {\n",
       "        vertical-align: middle;\n",
       "    }\n",
       "\n",
       "    .dataframe tbody tr th {\n",
       "        vertical-align: top;\n",
       "    }\n",
       "\n",
       "    .dataframe thead th {\n",
       "        text-align: right;\n",
       "    }\n",
       "</style>\n",
       "<table border=\"1\" class=\"dataframe\">\n",
       "  <thead>\n",
       "    <tr style=\"text-align: right;\">\n",
       "      <th></th>\n",
       "      <th>building_size</th>\n",
       "      <th>type</th>\n",
       "      <th>Value</th>\n",
       "      <th>bedroom</th>\n",
       "      <th>age</th>\n",
       "      <th>bathrooms</th>\n",
       "      <th>toilets</th>\n",
       "      <th>Boy'squarter</th>\n",
       "      <th>loc_density</th>\n",
       "      <th>condition</th>\n",
       "      <th>Ceiling</th>\n",
       "      <th>Floor</th>\n",
       "      <th>Roof</th>\n",
       "      <th>Window</th>\n",
       "      <th>Painting</th>\n",
       "      <th>water</th>\n",
       "      <th>Electricity</th>\n",
       "      <th>Car_park</th>\n",
       "      <th>Security</th>\n",
       "    </tr>\n",
       "  </thead>\n",
       "  <tbody>\n",
       "    <tr>\n",
       "      <th>1</th>\n",
       "      <td>0.057592</td>\n",
       "      <td>0</td>\n",
       "      <td>0.021938</td>\n",
       "      <td>0.111111</td>\n",
       "      <td>0.095238</td>\n",
       "      <td>0.125</td>\n",
       "      <td>0.250</td>\n",
       "      <td>0</td>\n",
       "      <td>2</td>\n",
       "      <td>2</td>\n",
       "      <td>1</td>\n",
       "      <td>3</td>\n",
       "      <td>2</td>\n",
       "      <td>1</td>\n",
       "      <td>3</td>\n",
       "      <td>2</td>\n",
       "      <td>2</td>\n",
       "      <td>0</td>\n",
       "      <td>1</td>\n",
       "    </tr>\n",
       "    <tr>\n",
       "      <th>2</th>\n",
       "      <td>0.057592</td>\n",
       "      <td>4</td>\n",
       "      <td>0.040219</td>\n",
       "      <td>0.333333</td>\n",
       "      <td>0.000000</td>\n",
       "      <td>0.375</td>\n",
       "      <td>0.500</td>\n",
       "      <td>0</td>\n",
       "      <td>0</td>\n",
       "      <td>2</td>\n",
       "      <td>2</td>\n",
       "      <td>3</td>\n",
       "      <td>2</td>\n",
       "      <td>0</td>\n",
       "      <td>0</td>\n",
       "      <td>2</td>\n",
       "      <td>2</td>\n",
       "      <td>0</td>\n",
       "      <td>0</td>\n",
       "    </tr>\n",
       "    <tr>\n",
       "      <th>3</th>\n",
       "      <td>0.214660</td>\n",
       "      <td>1</td>\n",
       "      <td>0.063071</td>\n",
       "      <td>0.444444</td>\n",
       "      <td>0.380952</td>\n",
       "      <td>0.500</td>\n",
       "      <td>0.500</td>\n",
       "      <td>0</td>\n",
       "      <td>2</td>\n",
       "      <td>1</td>\n",
       "      <td>2</td>\n",
       "      <td>2</td>\n",
       "      <td>2</td>\n",
       "      <td>1</td>\n",
       "      <td>1</td>\n",
       "      <td>2</td>\n",
       "      <td>2</td>\n",
       "      <td>1</td>\n",
       "      <td>0</td>\n",
       "    </tr>\n",
       "    <tr>\n",
       "      <th>4</th>\n",
       "      <td>0.005236</td>\n",
       "      <td>2</td>\n",
       "      <td>0.017367</td>\n",
       "      <td>0.000000</td>\n",
       "      <td>0.190476</td>\n",
       "      <td>0.000</td>\n",
       "      <td>0.125</td>\n",
       "      <td>0</td>\n",
       "      <td>0</td>\n",
       "      <td>1</td>\n",
       "      <td>1</td>\n",
       "      <td>3</td>\n",
       "      <td>0</td>\n",
       "      <td>1</td>\n",
       "      <td>1</td>\n",
       "      <td>2</td>\n",
       "      <td>3</td>\n",
       "      <td>0</td>\n",
       "      <td>1</td>\n",
       "    </tr>\n",
       "    <tr>\n",
       "      <th>5</th>\n",
       "      <td>0.109948</td>\n",
       "      <td>1</td>\n",
       "      <td>0.108775</td>\n",
       "      <td>0.444444</td>\n",
       "      <td>0.190476</td>\n",
       "      <td>0.625</td>\n",
       "      <td>0.750</td>\n",
       "      <td>1</td>\n",
       "      <td>0</td>\n",
       "      <td>1</td>\n",
       "      <td>2</td>\n",
       "      <td>3</td>\n",
       "      <td>0</td>\n",
       "      <td>1</td>\n",
       "      <td>1</td>\n",
       "      <td>2</td>\n",
       "      <td>3</td>\n",
       "      <td>1</td>\n",
       "      <td>0</td>\n",
       "    </tr>\n",
       "  </tbody>\n",
       "</table>\n",
       "</div>"
      ],
      "text/plain": [
       "   building_size  type     Value   bedroom       age  bathrooms  toilets  \\\n",
       "1       0.057592     0  0.021938  0.111111  0.095238      0.125    0.250   \n",
       "2       0.057592     4  0.040219  0.333333  0.000000      0.375    0.500   \n",
       "3       0.214660     1  0.063071  0.444444  0.380952      0.500    0.500   \n",
       "4       0.005236     2  0.017367  0.000000  0.190476      0.000    0.125   \n",
       "5       0.109948     1  0.108775  0.444444  0.190476      0.625    0.750   \n",
       "\n",
       "   Boy'squarter  loc_density  condition  Ceiling   Floor  Roof  Window   \\\n",
       "1             0            2          2         1      3     2        1   \n",
       "2             0            0          2         2      3     2        0   \n",
       "3             0            2          1         2      2     2        1   \n",
       "4             0            0          1         1      3     0        1   \n",
       "5             1            0          1         2      3     0        1   \n",
       "\n",
       "   Painting  water  Electricity  Car_park  Security  \n",
       "1         3      2            2         0         1  \n",
       "2         0      2            2         0         0  \n",
       "3         1      2            2         1         0  \n",
       "4         1      2            3         0         1  \n",
       "5         1      2            3         1         0  "
      ]
     },
     "execution_count": 207,
     "metadata": {},
     "output_type": "execute_result"
    }
   ],
   "source": [
    "def wrangle(data):\n",
    "    from sklearn.preprocessing import LabelEncoder, MinMaxScaler, StandardScaler\n",
    "    import pickle as pkl\n",
    "    import joblib\n",
    "    \n",
    "    type_encoder = LabelEncoder()\n",
    "    boy_encoder = LabelEncoder()\n",
    "    density_encoder = LabelEncoder()\n",
    "    cond_encoder = LabelEncoder()\n",
    "    ceil_encoder = LabelEncoder()\n",
    "    floor_encoder = LabelEncoder()\n",
    "    roof_encoder = LabelEncoder()\n",
    "    win_encoder = LabelEncoder()\n",
    "    paint_encoder = LabelEncoder()\n",
    "    water_encoder = LabelEncoder()\n",
    "    ele_encoder = LabelEncoder()\n",
    "    car_encoder = LabelEncoder()\n",
    "    sec_encoder = LabelEncoder()\n",
    "\n",
    "    scaler_y = MinMaxScaler()\n",
    "    \n",
    "    build_scaler = MinMaxScaler()\n",
    "    bed_scaler = MinMaxScaler()\n",
    "    age_scaler = MinMaxScaler()\n",
    "    toil_scaler = MinMaxScaler()\n",
    "    bath_scaler = MinMaxScaler()\n",
    "    \n",
    "    data['type'] = type_encoder.fit_transform((data['type']))\n",
    "    data[\"Boy'squarter\"] = boy_encoder.fit_transform(data[\"Boy'squarter\"])\n",
    "    data['loc_density'] =  density_encoder.fit_transform(data['loc_density'])\n",
    "    data['condition'] = cond_encoder.fit_transform(data['condition'])\n",
    "    data['Ceiling '] = ceil_encoder.fit_transform(data['Ceiling '])\n",
    "    data['Floor'] = floor_encoder.fit_transform(data['Floor'])\n",
    "    data['Roof'] = roof_encoder.fit_transform(data['Roof'])\n",
    "    data['Window '] = win_encoder.fit_transform(data['Window '])\n",
    "    data['Painting'] = paint_encoder.fit_transform(data['Painting'])\n",
    "    data['water'] = water_encoder.fit_transform(data['water'])\n",
    "    data['Electricity'] = ele_encoder.fit_transform(data['Electricity'])\n",
    "    data['Car_park'] = car_encoder.fit_transform(data['Car_park'])\n",
    "    data['Security'] = sec_encoder.fit_transform(data['Security'])\n",
    "    \n",
    "    build_scaler_ = build_scaler.fit(np.array(data['building_size']).reshape(-1, 1))\n",
    "    bed_scaler_ = bed_scaler.fit(np.array(data['bedroom']).reshape(-1, 1))\n",
    "    age_scaler_ = age_scaler.fit(np.array(data['age']).reshape(-1, 1))\n",
    "    toil_scaler_ = toil_scaler.fit(np.array(data['toilets']).reshape(-1, 1))\n",
    "    bath_scaler_ = bath_scaler.fit(np.array(data['bathrooms']).reshape(-1, 1))\n",
    "    scaler_y_ = scaler_y.fit(np.array(data['Value']).reshape(-1, 1))\n",
    "    \n",
    "    # joblib.dump(encoder, 'encoder.pkl')\n",
    "    # joblib.dump(scaler_x, 'scaler_x.pkl')\n",
    "    # joblib.dump(scaler_y, 'scaler_y.pkl')\n",
    "    \n",
    "    \n",
    "    # Save encoders and scalers using joblib\n",
    "    joblib.dump(type_encoder, 'scaler/type_encoder.pkl')\n",
    "    joblib.dump(boy_encoder, 'scaler/boy_encoder.pkl')\n",
    "    joblib.dump(density_encoder, 'scaler/density_encoder.pkl')\n",
    "    joblib.dump(cond_encoder, 'scaler/cond_encoder.pkl')\n",
    "    joblib.dump(ceil_encoder, 'scaler/ceil_encoder.pkl')\n",
    "    joblib.dump(floor_encoder, 'scaler/floor_encoder.pkl')\n",
    "    joblib.dump(roof_encoder, 'scaler/roof_encoder.pkl')\n",
    "    joblib.dump(win_encoder, 'scaler/win_encoder.pkl')\n",
    "    joblib.dump(paint_encoder, 'scaler/paint_encoder.pkl')\n",
    "    joblib.dump(water_encoder, 'scaler/water_encoder.pkl')\n",
    "    joblib.dump(ele_encoder, 'scaler/ele_encoder.pkl')\n",
    "    joblib.dump(car_encoder, 'scaler/car_encoder.pkl')\n",
    "    joblib.dump(sec_encoder, 'scaler/sec_encoder.pkl')\n",
    "\n",
    "    joblib.dump(build_scaler_, 'scaler/build_scaler.pkl')\n",
    "    joblib.dump(bed_scaler_, 'scaler/bed_scaler.pkl')\n",
    "    joblib.dump(age_scaler_, 'scaler/age_scaler.pkl')\n",
    "    joblib.dump(toil_scaler_, 'scaler/toil_scaler.pkl')\n",
    "    joblib.dump(bath_scaler_, 'scaler/bath_scaler.pkl')\n",
    "    joblib.dump(scaler_y_, 'scaler/scaler_y.pkl')\n",
    "    \n",
    "    \n",
    "    # Load the saved scalers\n",
    "    build_scaler = joblib.load('scaler/build_scaler.pkl')\n",
    "    bed_scaler = joblib.load('scaler/bed_scaler.pkl')\n",
    "    age_scaler = joblib.load('scaler/age_scaler.pkl')\n",
    "    toil_scaler = joblib.load('scaler/toil_scaler.pkl')\n",
    "    bath_scaler = joblib.load('scaler/bath_scaler.pkl')\n",
    "    scaler_y = joblib.load('scaler/scaler_y.pkl')\n",
    "    \n",
    "    data['building_size'] = build_scaler.transform(np.array(data['building_size']).reshape(-1, 1))\n",
    "    data['bedroom'] = bed_scaler.transform(np.array(data['bedroom']).reshape(-1, 1))\n",
    "    data['age'] = age_scaler.transform(np.array(data['age']).reshape(-1, 1))\n",
    "    data['toilets'] = toil_scaler.transform(np.array(data['toilets']).reshape(-1, 1))\n",
    "    data['bathrooms'] = bath_scaler.transform(np.array(data['bathrooms']).reshape(-1, 1))\n",
    "    data['Value'] = scaler_y.transform(np.array(data['Value']).reshape(-1, 1))\n",
    "    \n",
    "    \n",
    "    return data\n",
    "\n",
    "data = wrangle(data)\n",
    "data.head()"
   ]
  },
  {
   "cell_type": "code",
   "execution_count": 221,
   "id": "0985b2d1-7574-4cba-bf07-f7a459608958",
   "metadata": {},
   "outputs": [
    {
     "data": {
      "text/plain": [
       "1.0000000000000002"
      ]
     },
     "execution_count": 221,
     "metadata": {},
     "output_type": "execute_result"
    }
   ],
   "source": [
    "data['building_size'].max()"
   ]
  },
  {
   "cell_type": "code",
   "execution_count": 208,
   "id": "64f13316-7903-4b32-b43c-d37d25dde297",
   "metadata": {},
   "outputs": [
    {
     "name": "stdout",
     "output_type": "stream",
     "text": [
      "{'Bungalow': 0, 'Detached house': 1, 'Mini Flat': 2, 'Semi-detached house': 3, 'Terrace': 4}\n"
     ]
    }
   ],
   "source": [
    "import joblib as jb\n",
    "encoder = jb.load('scaler/type_encoder.pkl')\n",
    "label_mapping = dict(zip(encoder.classes_, encoder.transform(encoder.classes_)))\n",
    "print(label_mapping)"
   ]
  },
  {
   "cell_type": "code",
   "execution_count": 209,
   "id": "4082204b-edf9-4143-b410-7eac5584a129",
   "metadata": {},
   "outputs": [
    {
     "name": "stdout",
     "output_type": "stream",
     "text": [
      "[[1]]\n"
     ]
    },
    {
     "data": {
      "text/plain": [
       "array([3])"
      ]
     },
     "execution_count": 209,
     "metadata": {},
     "output_type": "execute_result"
    }
   ],
   "source": [
    "ent = np.array(data['type'].iloc[7]).reshape(1, -1)\n",
    "print(ent)\n",
    "encoder.transform(['Semi-detached house'])"
   ]
  },
  {
   "cell_type": "code",
   "execution_count": 210,
   "id": "50b62ae3-ea14-4aca-aa77-12d41f9fe7f1",
   "metadata": {},
   "outputs": [],
   "source": [
    "data = data[data['Value'] < data['Value'].mean()]"
   ]
  },
  {
   "cell_type": "code",
   "execution_count": 211,
   "id": "6d6f84dc-f204-4f02-9e8a-f22c6ca8af2d",
   "metadata": {},
   "outputs": [
    {
     "name": "stderr",
     "output_type": "stream",
     "text": [
      "C:\\Users\\HP\\anaconda3\\lib\\site-packages\\seaborn\\_decorators.py:36: FutureWarning: Pass the following variable as a keyword arg: x. From version 0.12, the only valid positional argument will be `data`, and passing other arguments without an explicit keyword will result in an error or misinterpretation.\n",
      "  warnings.warn(\n"
     ]
    },
    {
     "data": {
      "image/png": "[encoded data removed]",
      "text/plain": [
       "<Figure size 640x480 with 1 Axes>"
      ]
     },
     "metadata": {},
     "output_type": "display_data"
    }
   ],
   "source": [
    "sns.boxplot(data['Value'])\n",
    "plt.grid()"
   ]
  },
  {
   "cell_type": "markdown",
   "id": "6924965f-7384-4949-9d98-1cc22181c87b",
   "metadata": {},
   "source": [
    "data = data[data['Value'] < 0.5e9]"
   ]
  },
  {
   "cell_type": "code",
   "execution_count": 212,
   "id": "9ae680bf-ec3b-4e87-8344-5a4409098379",
   "metadata": {},
   "outputs": [
    {
     "data": {
      "text/plain": [
       "Floor\n",
       "3    183\n",
       "2     41\n",
       "1     20\n",
       "4      6\n",
       "0      1\n",
       "Name: count, dtype: int64"
      ]
     },
     "execution_count": 212,
     "metadata": {},
     "output_type": "execute_result"
    }
   ],
   "source": [
    "data['Floor'].value_counts()"
   ]
  },
  {
   "cell_type": "code",
   "execution_count": 213,
   "id": "1ff3b515-2903-4c1b-8650-05f2cb99aaef",
   "metadata": {},
   "outputs": [],
   "source": [
    "y = data['Value']\n",
    "X = data.drop(columns=['Value'])"
   ]
  },
  {
   "cell_type": "code",
   "execution_count": 214,
   "id": "e9fa17a3-dc3e-45dd-8da6-e69f92b8f418",
   "metadata": {},
   "outputs": [],
   "source": [
    "from sklearn.model_selection import train_test_split\n",
    "x_train, x_test, y_train, y_test = train_test_split(X, y, test_size=0.1, random_state=42)"
   ]
  },
  {
   "cell_type": "code",
   "execution_count": 215,
   "id": "89720c96-783f-4708-8187-6a393d549fc1",
   "metadata": {},
   "outputs": [],
   "source": [
    "from sklearn.linear_model import LinearRegression\n",
    "from sklearn.ensemble import RandomForestRegressor, ExtraTreesRegressor, GradientBoostingRegressor\n",
    "from sklearn.metrics import mean_absolute_error as mea, mean_absolute_percentage_error as mape"
   ]
  },
  {
   "cell_type": "code",
   "execution_count": 216,
   "id": "8e2fd0d7-cbe4-4208-b5d7-048ffad556e3",
   "metadata": {},
   "outputs": [
    {
     "name": "stdout",
     "output_type": "stream",
     "text": [
      "MEA: 0.01443566078424577\n"
     ]
    },
    {
     "data": {
      "text/plain": [
       "'MAPE: 0.7018681921581779'"
      ]
     },
     "execution_count": 216,
     "metadata": {},
     "output_type": "execute_result"
    }
   ],
   "source": [
    "model_3 = LinearRegression()\n",
    "model_3.fit(x_train, y_train)\n",
    "prediction = model_3.predict(x_test)\n",
    "print (f'MEA: {mea(y_test, prediction)}')\n",
    "f'MAPE: {mape(y_test, prediction)}'"
   ]
  },
  {
   "cell_type": "code",
   "execution_count": 217,
   "id": "add8fa4a-4a43-4284-9daf-1f1189ac44e2",
   "metadata": {},
   "outputs": [
    {
     "data": {
      "text/plain": [
       "11   -0.008075\n",
       "Name: Value, dtype: float64"
      ]
     },
     "execution_count": 217,
     "metadata": {},
     "output_type": "execute_result"
    }
   ],
   "source": [
    "(prediction[1:2]- y_test[1:2])"
   ]
  },
  {
   "cell_type": "code",
   "execution_count": 218,
   "id": "f3f7b61d-4cd1-4cb3-bf0c-c1c2cdfd2dfd",
   "metadata": {},
   "outputs": [
    {
     "data": {
      "text/plain": [
       "(83089860.0,\n",
       " 11    0.069927\n",
       " Name: Value, dtype: float64,\n",
       " 281089855.0)"
      ]
     },
     "execution_count": 218,
     "metadata": {},
     "output_type": "execute_result"
    }
   ],
   "source": [
    "8.308986e+07, y_test[1:2], 2.81089855e+08"
   ]
  },
  {
   "cell_type": "code",
   "execution_count": 219,
   "id": "50673527-51bd-456a-967d-6841a8f62f35",
   "metadata": {},
   "outputs": [],
   "source": [
    "import pickle as pkl\n",
    "\n",
    "with open('model/model_3.pkl', 'wb') as f:\n",
    "    pkl.dump(model_3, f)"
   ]
  },
  {
   "cell_type": "code",
   "execution_count": null,
   "id": "422ac6ba-8fae-482c-b848-00e695863b30",
   "metadata": {},
   "outputs": [],
   "source": []
  }
 ],
 "metadata": {
  "kernelspec": {
   "display_name": "Python 3 (ipykernel)",
   "language": "python",
   "name": "python3"
  },
  "language_info": {
   "codemirror_mode": {
    "name": "ipython",
    "version": 3
   },
   "file_extension": ".py",
   "mimetype": "text/x-python",
   "name": "python",
   "nbconvert_exporter": "python",
   "pygments_lexer": "ipython3",
   "version": "3.9.13"
  }
 },
 "nbformat": 4,
 "nbformat_minor": 5
}
